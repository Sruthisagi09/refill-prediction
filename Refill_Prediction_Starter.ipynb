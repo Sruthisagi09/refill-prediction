{
 "cells": [
  {
   "cell_type": "markdown",
   "id": "dfd34788",
   "metadata": {},
   "source": [
    "# 🧪 Refill Prediction – Starter ML Notebook"
   ]
  },
  {
   "cell_type": "markdown",
   "id": "f3d88f9c",
   "metadata": {},
   "source": [
    "This notebook demonstrates how to use simple ML (logistic regression) to predict whether a patient refills their medication on time."
   ]
  },
  {
   "cell_type": "code",
   "execution_count": null,
   "id": "8e5e00fd",
   "metadata": {},
   "outputs": [],
   "source": [
    "import pandas as pd\n",
    "import numpy as np\n",
    "import matplotlib.pyplot as plt\n",
    "import seaborn as sns\n",
    "from sklearn.model_selection import train_test_split\n",
    "from sklearn.linear_model import LogisticRegression\n",
    "from sklearn.metrics import classification_report\n",
    "\n",
    "sns.set(style=\"whitegrid\")\n"
   ]
  },
  {
   "cell_type": "code",
   "execution_count": null,
   "id": "6edb1951",
   "metadata": {},
   "outputs": [],
   "source": [
    "# Sample synthetic dataset\n",
    "df = pd.DataFrame({\n",
    "    'PatientID': [101, 102, 103, 104],\n",
    "    'Age': [45, 60, 30, 50],\n",
    "    'Gender': ['F', 'M', 'F', 'M'],\n",
    "    'RefillGapDays': [2, 10, 0, 7],\n",
    "    'RefillOnTime': [1, 0, 1, 0]\n",
    "})\n",
    "\n",
    "df.head()\n"
   ]
  },
  {
   "cell_type": "code",
   "execution_count": null,
   "id": "1a586b79",
   "metadata": {},
   "outputs": [],
   "source": [
    "# EDA\n",
    "print(df.describe())\n",
    "\n",
    "plt.figure(figsize=(6,4))\n",
    "sns.histplot(df['RefillGapDays'], bins=5, kde=True)\n",
    "plt.title(\"Distribution of Refill Gap Days\")\n",
    "plt.xlabel(\"RefillGapDays\")\n",
    "plt.ylabel(\"Count\")\n",
    "plt.show()\n"
   ]
  },
  {
   "cell_type": "code",
   "execution_count": null,
   "id": "9a71f4b8",
   "metadata": {},
   "outputs": [],
   "source": [
    "# Encode gender, split features and target\n",
    "df_encoded = pd.get_dummies(df, columns=['Gender'], drop_first=True)\n",
    "\n",
    "X = df_encoded[['Age', 'RefillGapDays', 'Gender_M']]\n",
    "y = df_encoded['RefillOnTime']\n",
    "\n",
    "X_train, X_test, y_train, y_test = train_test_split(X, y, test_size=0.25, random_state=42)\n"
   ]
  },
  {
   "cell_type": "code",
   "execution_count": null,
   "id": "67077489",
   "metadata": {},
   "outputs": [],
   "source": [
    "# Train and evaluate logistic regression model\n",
    "model = LogisticRegression()\n",
    "model.fit(X_train, y_train)\n",
    "y_pred = model.predict(X_test)\n",
    "\n",
    "print(\"Classification Report:\\n\")\n",
    "print(classification_report(y_test, y_pred))\n"
   ]
  }
 ],
 "metadata": {},
 "nbformat": 4,
 "nbformat_minor": 5
}
